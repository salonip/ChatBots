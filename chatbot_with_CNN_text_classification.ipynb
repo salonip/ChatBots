{
  "nbformat": 4,
  "nbformat_minor": 0,
  "metadata": {
    "colab": {
      "name": "chatbot with CNN text classification.ipynb",
      "provenance": [],
      "collapsed_sections": [],
      "authorship_tag": "ABX9TyMHTDLAqGS/RqIoEhJNJ/WC",
      "include_colab_link": true
    },
    "kernelspec": {
      "name": "python3",
      "display_name": "Python 3"
    },
    "accelerator": "TPU"
  },
  "cells": [
    {
      "cell_type": "markdown",
      "metadata": {
        "id": "view-in-github",
        "colab_type": "text"
      },
      "source": [
        "<a href=\"https://colab.research.google.com/github/salonip/ChatBots/blob/master/chatbot_with_CNN_text_classification.ipynb\" target=\"_parent\"><img src=\"https://colab.research.google.com/assets/colab-badge.svg\" alt=\"Open In Colab\"/></a>"
      ]
    },
    {
      "cell_type": "code",
      "metadata": {
        "id": "PdLazsOETc_O",
        "colab_type": "code",
        "colab": {}
      },
      "source": [
        "\n",
        "import json\n",
        "import numpy as np \n",
        "import nltk \n",
        "import tensorflow as tf\n",
        "from nltk.stem.porter import PorterStemmer\n",
        "ps = PorterStemmer()"
      ],
      "execution_count": 1,
      "outputs": []
    },
    {
      "cell_type": "code",
      "metadata": {
        "id": "HQSEXkEVXIAf",
        "colab_type": "code",
        "colab": {
          "base_uri": "https://localhost:8080/",
          "height": 122
        },
        "outputId": "50f260cf-71e7-4dcc-ad61-6feaccd40a2c"
      },
      "source": [
        "from google.colab import drive\n",
        "drive.mount('/content/drive/')"
      ],
      "execution_count": 2,
      "outputs": [
        {
          "output_type": "stream",
          "text": [
            "Go to this URL in a browser: https://accounts.google.com/o/oauth2/auth?client_id=947318989803-6bn6qk8qdgf4n4g3pfee6491hc0brc4i.apps.googleusercontent.com&redirect_uri=urn%3aietf%3awg%3aoauth%3a2.0%3aoob&response_type=code&scope=email%20https%3a%2f%2fwww.googleapis.com%2fauth%2fdocs.test%20https%3a%2f%2fwww.googleapis.com%2fauth%2fdrive%20https%3a%2f%2fwww.googleapis.com%2fauth%2fdrive.photos.readonly%20https%3a%2f%2fwww.googleapis.com%2fauth%2fpeopleapi.readonly\n",
            "\n",
            "Enter your authorization code:\n",
            "··········\n",
            "Mounted at /content/drive/\n"
          ],
          "name": "stdout"
        }
      ]
    },
    {
      "cell_type": "markdown",
      "metadata": {
        "id": "FMMsJtsaFNVd",
        "colab_type": "text"
      },
      "source": [
        "This approach understands the spelling mistakes better and has a better contextual understanding"
      ]
    },
    {
      "cell_type": "code",
      "metadata": {
        "id": "7GHItykWXTrh",
        "colab_type": "code",
        "colab": {}
      },
      "source": [
        "import os\n",
        "project_path = \"/content/drive/My Drive/chatbot/\"\n",
        "os.chdir(project_path)"
      ],
      "execution_count": 3,
      "outputs": []
    },
    {
      "cell_type": "code",
      "metadata": {
        "id": "fadUiIk1WNxw",
        "colab_type": "code",
        "colab": {}
      },
      "source": [
        "\n",
        "with open(\"intents.json\") as file:\n",
        "    bot = json.load(file)"
      ],
      "execution_count": 4,
      "outputs": []
    },
    {
      "cell_type": "code",
      "metadata": {
        "id": "SsZX22TqZIDC",
        "colab_type": "code",
        "colab": {}
      },
      "source": [
        "labels = []\n",
        "intent_part_x = []\n",
        "intent_part_y = []\n",
        "punctuations = '''!()-[]{};:'\"\\,<>./?@#$%^&*_~'''\n",
        "\n",
        "for intent in bot[\"intents\"]:\n",
        "    for pattern in intent[\"patterns\"]:\n",
        "        tokens = nltk.wordpunct_tokenize(pattern) #Tokenizing the pattern\n",
        "        #Since token is a list no need of appending we just use the function extend\n",
        "        token =[]\n",
        "        for t in tokens:\n",
        "          t = t.lower() \n",
        "          if t in punctuations:\n",
        "            continue\n",
        "          token.append(t)\n",
        "        intent_part_x.append(token)\n",
        "        intent_part_y.append(intent[\"tag\"])\n",
        "\n",
        "    if intent[\"tag\"] not in labels:\n",
        "        labels.append(intent[\"tag\"])"
      ],
      "execution_count": 5,
      "outputs": []
    },
    {
      "cell_type": "code",
      "metadata": {
        "id": "xVr3o7ZB_vgN",
        "colab_type": "code",
        "colab": {
          "base_uri": "https://localhost:8080/",
          "height": 1000
        },
        "outputId": "a56e7f6b-c654-477f-9779-f9af40d5cf6d"
      },
      "source": [
        "intent_part_x"
      ],
      "execution_count": 6,
      "outputs": [
        {
          "output_type": "execute_result",
          "data": {
            "text/plain": [
              "[['hi', 'there'],\n",
              " ['hello'],\n",
              " ['hola'],\n",
              " ['hey'],\n",
              " ['hi'],\n",
              " ['hello'],\n",
              " ['good', 'morning'],\n",
              " ['good', 'evening'],\n",
              " ['bye'],\n",
              " ['see', 'you', 'later'],\n",
              " ['goodbye'],\n",
              " ['nice', 'chatting', 'to', 'you', 'bye'],\n",
              " ['till', 'next', 'time'],\n",
              " ['bye', 'chatbot'],\n",
              " ['thanks'],\n",
              " ['thank', 'you'],\n",
              " ['that', 's', 'helpful'],\n",
              " ['awesome', 'thanks'],\n",
              " ['thanks', 'for', 'helping', 'me'],\n",
              " ['q'],\n",
              " ['random'],\n",
              " ['how', 'you', 'could', 'help', 'me'],\n",
              " ['what', 'you', 'can', 'do'],\n",
              " ['what', 'help', 'you', 'provide'],\n",
              " ['how', 'you', 'can', 'be', 'helpful'],\n",
              " ['what', 'support', 'is', 'offered'],\n",
              " ['what', 'services', 'do', 'you', 'provide'],\n",
              " ['what', 'can', 'you', 'help', 'me', 'with'],\n",
              " ['how', 'to', 'reset', 'my', 'password'],\n",
              " ['i', '’', 'm', 'unable', 'to', 'log', 'in'],\n",
              " ['my', 'password', 'is', 'lost', 'need', 'to', 'reset'],\n",
              " ['open', 'password', 'reset', 'module'],\n",
              " ['reset', 'my', 'password'],\n",
              " ['forgot', 'password'],\n",
              " ['how', 'do', 'i', 'reset', 'my', 'password'],\n",
              " ['hi', 'i', 'have', 'problem', 'with', 'my', 'password'],\n",
              " ['problem', 'with', 'login', 'id'],\n",
              " ['gmail', 'com'],\n",
              " ['outlook', 'com'],\n",
              " ['yahoo', 'com'],\n",
              " ['hotmail', 'in'],\n",
              " ['i', '’', 've', 'got', 'the', 'dreaded', 'blue', 'screen', 'of', 'death'],\n",
              " ['blue', 'screen', 'issue'],\n",
              " ['i', 'deleted', 'some', 'important', 'files'],\n",
              " ['find', 'my', 'deleted', 'files'],\n",
              " ['removed', 'neccesary', 'files'],\n",
              " ['i', 'by', 'mistake', 'deleted', 'my', 'folders'],\n",
              " ['can', 'you', 'help', 'me', 'with', 'deleted', 'files', 'issue'],\n",
              " ['i', 'am', 'unable', 'to', 'find', 'my', 'files'],\n",
              " ['i', 'just', 'closed', 'my', 'document', 'without', 'saving'],\n",
              " ['unsaved', 'document'],\n",
              " ['forgot', 'to', 'save', 'my', 'work'],\n",
              " ['slow', 'computer'],\n",
              " ['my', 'computer', 'is', 'running', 'too', 'slowly'],\n",
              " ['computer', 'is', 'not', 'fast'],\n",
              " ['my', 'computer', 'just', 'shut', 'down', 'unexpectedly'],\n",
              " ['computer', 'shut', 'down', 'unexpected'],\n",
              " ['computer', 'keeps', 'shutting', 'down'],\n",
              " ['computer', 'shutdown'],\n",
              " ['pc', 'shutdown'],\n",
              " ['i', 'can', '’', 't', 'print', 'anything'],\n",
              " ['printing', 'issue'],\n",
              " ['my', 'printer', 'isn', '’', 't', 'printing'],\n",
              " ['can',\n",
              "  '’',\n",
              "  't',\n",
              "  'seem',\n",
              "  'to',\n",
              "  'use',\n",
              "  'my',\n",
              "  'department',\n",
              "  '’',\n",
              "  's',\n",
              "  'printer'],\n",
              " ['nothing', 'works'],\n",
              " ['i', 'have', 'issues'],\n",
              " ['i', 'need', 'help'],\n",
              " ['i', 'have', 'problems'],\n",
              " ['i', 'have', 'virus', 'in', 'my', 'laptop'],\n",
              " ['virus', 'issues'],\n",
              " ['computer', 'has', 'a', 'virus'],\n",
              " ['i', 'have', 'problems'],\n",
              " ['my', 'mouse', 'is', 'not', 'working'],\n",
              " ['the', 'mouse', 'is', 'dead'],\n",
              " ['bluetooth', 'mouse', 'not', 'working'],\n",
              " ['mouse', 'issues'],\n",
              " ['trackpad', 'not', 'working'],\n",
              " ['i', 'need', 'help', 'with', 'trackpad', 'problems'],\n",
              " ['my', 'computer', 'does', 'not', 'recognise', 'my', 'usb', 'device'],\n",
              " ['okay', 'so', 'i', 'need', 'help', 'with', 'pendrive'],\n",
              " ['usb', 'issues'],\n",
              " ['pendrive', 'issues'],\n",
              " ['pendrive', 'is', 'not', 'detected'],\n",
              " ['my', 'internet', 'is', 'really', 'slow'],\n",
              " ['slow', 'internet'],\n",
              " ['cannot', 'connect', 'to', 'internet'],\n",
              " ['internet', 'is', 'not', 'fast'],\n",
              " ['my', 'wi', 'fi', 'keeps', 'dropping']]"
            ]
          },
          "metadata": {
            "tags": []
          },
          "execution_count": 6
        }
      ]
    },
    {
      "cell_type": "code",
      "metadata": {
        "id": "b5pRVT4YuGjN",
        "colab_type": "code",
        "colab": {}
      },
      "source": [
        "#vocab size\n",
        "maxlen = 10  #number of word used from each review\n",
        "embedding_size = 50"
      ],
      "execution_count": 43,
      "outputs": []
    },
    {
      "cell_type": "code",
      "metadata": {
        "id": "dLlBov2FugKI",
        "colab_type": "code",
        "colab": {}
      },
      "source": [
        "from tensorflow.keras.preprocessing.text import Tokenizer\n",
        "from tensorflow.keras.preprocessing.sequence import pad_sequences\n",
        "tokenizer = Tokenizer(num_words=150)\n",
        "tokenizer.fit_on_texts(intent_part_x)"
      ],
      "execution_count": 44,
      "outputs": []
    },
    {
      "cell_type": "code",
      "metadata": {
        "id": "JvFZbzLQ0xWl",
        "colab_type": "code",
        "colab": {
          "base_uri": "https://localhost:8080/",
          "height": 136
        },
        "outputId": "e16b425d-a3b7-493e-859e-48b0d39234fe"
      },
      "source": [
        "X = tokenizer.texts_to_sequences(intent_part_x)\n",
        "X = pad_sequences(X,padding = 'post', maxlen = maxlen)\n",
        "y = np.asarray(intent_part_y)\n",
        "\n",
        "print(\"Number of Samples:\", len(X))\n",
        "print(X[0])\n",
        "print(X.shape)\n",
        "print(\"=\"*100)\n",
        "print(\"Number of Labels: \", len(y))\n",
        "print(y[0])\n",
        "print(y.shape)"
      ],
      "execution_count": 45,
      "outputs": [
        {
          "output_type": "stream",
          "text": [
            "Number of Samples: 88\n",
            "[24 60  0  0  0  0  0  0  0  0]\n",
            "(88, 10)\n",
            "====================================================================================================\n",
            "Number of Labels:  88\n",
            "greeting\n",
            "(88,)\n"
          ],
          "name": "stdout"
        }
      ]
    },
    {
      "cell_type": "code",
      "metadata": {
        "id": "GFKQ5ZNkaZas",
        "colab_type": "code",
        "colab": {
          "base_uri": "https://localhost:8080/",
          "height": 71
        },
        "outputId": "d8edfcd0-3a0b-45d7-e469-648998136605"
      },
      "source": [
        "vocab_size = 150\n",
        "EMBEDDING_FILE = './glove.6B.50d.txt'\n",
        "\n",
        "def get_coefs(word,*arr): \n",
        "  return word, np.asarray(arr, dtype='float32')\n",
        "\n",
        "embeddings_index = dict(get_coefs(*o.split(\" \")) for o in open(EMBEDDING_FILE))\n",
        "\n",
        "all_embs = np.stack(embeddings_index.values())\n",
        "emb_mean,emb_std = all_embs.mean(), all_embs.std()\n",
        "embed_size = all_embs.shape[1]\n"
      ],
      "execution_count": 46,
      "outputs": [
        {
          "output_type": "stream",
          "text": [
            "/usr/local/lib/python3.6/dist-packages/IPython/core/interactiveshell.py:2822: FutureWarning: arrays to stack must be passed as a \"sequence\" type such as list or tuple. Support for non-sequence iterables such as generators is deprecated as of NumPy 1.16 and will raise an error in the future.\n",
            "  if self.run_code(code, result):\n"
          ],
          "name": "stderr"
        }
      ]
    },
    {
      "cell_type": "code",
      "metadata": {
        "id": "rfLQhEcLevD0",
        "colab_type": "code",
        "colab": {}
      },
      "source": [
        "import pandas as pd\n",
        "import numpy as np\n",
        "import gensim\n",
        "from sklearn.model_selection import train_test_split\n",
        "import string\n",
        "import matplotlib.pyplot as plt\n",
        "import re\n",
        "import nltk\n",
        "from nltk.corpus import stopwords\n",
        "strlen = lambda x: len(x)\n",
        "class TextClassification:\n",
        "    def __init__(self):\n",
        "        self.punctuations = list(string.punctuation)\n",
        "        self.remove_list = self.punctuations + [\"`\", \"'\", \"``\", \"''\",\",\"]\n",
        "        self.nonascii = lambda text: ''.join([i if ord(i) < 128 else ' ' for i in text])\n",
        "        self.w2v_model = embeddings_index\n",
        "\n",
        "    def cnvt_word2vec(self,lines,fixed_sent_len,vec_len):\n",
        "        default_value = np.zeros(vec_len)\n",
        "\n",
        "        key_set = self.w2v_model.keys()\n",
        "        mat = np.zeros((len(lines), fixed_sent_len, vec_len))\n",
        "\n",
        "        for i in range(0, len(lines)):\n",
        "\n",
        "            line = lines[i]\n",
        "            #print (\"(\" + str(round(float(i)/len(lines) , 4)*100) + \"%) completed\")\n",
        "            for j in range(0, fixed_sent_len):\n",
        "                # j = 0\n",
        "                if j < len(line) and line[j] in key_set:\n",
        "                    mat[i,j,:] = self.w2v_model[line[j]][0:vec_len]\n",
        "                else:\n",
        "                    mat[i,j,:] = default_value\n",
        "            #print (\"working with \"+str(i) + \" of \"+ str(len(lines)))\n",
        "        return mat\n"
      ],
      "execution_count": 47,
      "outputs": []
    },
    {
      "cell_type": "code",
      "metadata": {
        "id": "-iFckyGPlUO2",
        "colab_type": "code",
        "colab": {}
      },
      "source": [
        "tc= TextClassification()"
      ],
      "execution_count": 48,
      "outputs": []
    },
    {
      "cell_type": "code",
      "metadata": {
        "id": "RbODgd103lOf",
        "colab_type": "code",
        "colab": {
          "base_uri": "https://localhost:8080/",
          "height": 34
        },
        "outputId": "e0f4412c-2d9b-4200-9fcb-161bd59e5fa9"
      },
      "source": [
        "embedding_size"
      ],
      "execution_count": 49,
      "outputs": [
        {
          "output_type": "execute_result",
          "data": {
            "text/plain": [
              "50"
            ]
          },
          "metadata": {
            "tags": []
          },
          "execution_count": 49
        }
      ]
    },
    {
      "cell_type": "code",
      "metadata": {
        "id": "x7cfLVtu1SWs",
        "colab_type": "code",
        "colab": {}
      },
      "source": [
        "mat = tc.cnvt_word2vec(intent_part_x,maxlen,embedding_size)\n"
      ],
      "execution_count": 50,
      "outputs": []
    },
    {
      "cell_type": "code",
      "metadata": {
        "id": "hlD3axZ1MnMl",
        "colab_type": "code",
        "colab": {
          "base_uri": "https://localhost:8080/",
          "height": 34
        },
        "outputId": "13014e76-4f30-4e5b-b5ca-27c547ef1619"
      },
      "source": [
        "mat.shape"
      ],
      "execution_count": 51,
      "outputs": [
        {
          "output_type": "execute_result",
          "data": {
            "text/plain": [
              "(88, 10, 50)"
            ]
          },
          "metadata": {
            "tags": []
          },
          "execution_count": 51
        }
      ]
    },
    {
      "cell_type": "code",
      "metadata": {
        "id": "wMGD0kIF4OU6",
        "colab_type": "code",
        "colab": {
          "base_uri": "https://localhost:8080/",
          "height": 323
        },
        "outputId": "c2156e35-0ed6-48b3-99ab-614e624b5092"
      },
      "source": [
        "labels"
      ],
      "execution_count": 52,
      "outputs": [
        {
          "output_type": "execute_result",
          "data": {
            "text/plain": [
              "['greeting',\n",
              " 'goodbye',\n",
              " 'thanks',\n",
              " 'noanswer',\n",
              " 'options',\n",
              " 'Password Reset',\n",
              " 'E-mail id',\n",
              " 'Blue Sreen issue',\n",
              " 'Deleted files',\n",
              " 'Unsaved Document',\n",
              " 'Slow Computer',\n",
              " 'Unexpected Shut Down',\n",
              " 'Printing issues',\n",
              " 'Vague',\n",
              " 'Virus',\n",
              " 'Mouse',\n",
              " 'USB',\n",
              " 'Slow Internet']"
            ]
          },
          "metadata": {
            "tags": []
          },
          "execution_count": 52
        }
      ]
    },
    {
      "cell_type": "code",
      "metadata": {
        "id": "5ErRJF682D7Q",
        "colab_type": "code",
        "colab": {
          "base_uri": "https://localhost:8080/",
          "height": 102
        },
        "outputId": "a5168af7-c7ad-45fb-9e25-0bc4878afe4f"
      },
      "source": [
        " from sklearn import preprocessing\n",
        "le = preprocessing.LabelEncoder()\n",
        "y_labels = le.fit_transform(y)\n",
        "le.classes_"
      ],
      "execution_count": 53,
      "outputs": [
        {
          "output_type": "execute_result",
          "data": {
            "text/plain": [
              "array(['Blue Sreen issue', 'Deleted files', 'E-mail id', 'Mouse',\n",
              "       'Password Reset', 'Printing issues', 'Slow Computer',\n",
              "       'Slow Internet', 'USB', 'Unexpected Shut Down', 'Unsaved Document',\n",
              "       'Vague', 'Virus', 'goodbye', 'greeting', 'noanswer', 'options',\n",
              "       'thanks'], dtype='<U20')"
            ]
          },
          "metadata": {
            "tags": []
          },
          "execution_count": 53
        }
      ]
    },
    {
      "cell_type": "code",
      "metadata": {
        "id": "GkzaUFGV1ktF",
        "colab_type": "code",
        "colab": {}
      },
      "source": [
        "from tensorflow.keras.utils import to_categorical\n",
        "y_labels = to_categorical(y_labels)"
      ],
      "execution_count": 54,
      "outputs": []
    },
    {
      "cell_type": "code",
      "metadata": {
        "id": "-lGYjSuujEzx",
        "colab_type": "code",
        "colab": {}
      },
      "source": [
        "from tensorflow.keras.models import Model\n",
        "def create_convnet(rows,cols,labels):\n",
        "    inputs = tf.keras.layers.Input(shape=(rows, cols))\n",
        "\n",
        "    tower_1 = tf.keras.layers.Conv1D(500, 3, padding='valid', activation='relu')(inputs)\n",
        "    #tower_1 = MaxPooling1D(3)(tower_1)\n",
        "\n",
        "    tower_2 = tf.keras.layers.Conv1D(500,4, padding='valid', activation='relu')(inputs)\n",
        "    #tower_2 = MaxPooling1D(4)(tower_2)\n",
        "\n",
        "    merged = tf.keras.layers.concatenate([tower_1, tower_2], axis=1)\n",
        "    merged = tf.keras.layers.Flatten()(merged)\n",
        "    \n",
        "    #dense_1 = Dense(100, activation='relu')(merged)\n",
        "    out = tf.keras.layers.Dense(labels, activation='softmax')(merged)\n",
        "    \n",
        "\n",
        "    model = Model(inputs, out)\n",
        "    #from keras.utils.vis_utils import plot_model\n",
        "    #plot_model(model, to_file='cnn_model.png', show_shapes=True, show_layer_names=True)\n",
        "    return model\n",
        "\n",
        "model =create_convnet(maxlen,embedding_size,len(y_labels[0]))"
      ],
      "execution_count": 61,
      "outputs": []
    },
    {
      "cell_type": "code",
      "metadata": {
        "id": "T8q8VWHyR1Wh",
        "colab_type": "code",
        "colab": {
          "base_uri": "https://localhost:8080/",
          "height": 34
        },
        "outputId": "3bc89a91-21c7-4407-a2a3-9c05c49b8608"
      },
      "source": [
        "\n",
        "embedding_size"
      ],
      "execution_count": 62,
      "outputs": [
        {
          "output_type": "execute_result",
          "data": {
            "text/plain": [
              "50"
            ]
          },
          "metadata": {
            "tags": []
          },
          "execution_count": 62
        }
      ]
    },
    {
      "cell_type": "code",
      "metadata": {
        "id": "McmlcKPXOgYB",
        "colab_type": "code",
        "colab": {}
      },
      "source": [
        ""
      ],
      "execution_count": 62,
      "outputs": []
    },
    {
      "cell_type": "code",
      "metadata": {
        "id": "tF7QdlCTcwvs",
        "colab_type": "code",
        "colab": {}
      },
      "source": [
        "model.compile(loss='categorical_crossentropy', optimizer=\"adam\", metrics=['accuracy'])"
      ],
      "execution_count": 63,
      "outputs": []
    },
    {
      "cell_type": "code",
      "metadata": {
        "id": "TvQBllkg2_zx",
        "colab_type": "code",
        "colab": {}
      },
      "source": [
        "checkpoint_filepath = \"model.pkl\"\n",
        "model_checkpoint_callback = tf.keras.callbacks.ModelCheckpoint(\n",
        "    filepath=checkpoint_filepath,\n",
        "    save_weights_only=True,\n",
        "    monitor='loss',\n",
        "    mode='min',\n",
        "    save_best_only=True)\n"
      ],
      "execution_count": 64,
      "outputs": []
    },
    {
      "cell_type": "code",
      "metadata": {
        "id": "S5kI4DS5glXD",
        "colab_type": "code",
        "colab": {
          "base_uri": "https://localhost:8080/",
          "height": 714
        },
        "outputId": "e4ab0e5a-6281-4077-ec64-3f86dcacbf5c"
      },
      "source": [
        "model.fit(mat, y_labels, epochs=20, batch_size=5, verbose=1,callbacks=[model_checkpoint_callback])\n"
      ],
      "execution_count": 65,
      "outputs": [
        {
          "output_type": "stream",
          "text": [
            "Epoch 1/20\n",
            "18/18 [==============================] - 0s 10ms/step - loss: 3.0156 - accuracy: 0.1818\n",
            "Epoch 2/20\n",
            "18/18 [==============================] - 0s 10ms/step - loss: 1.5289 - accuracy: 0.7159\n",
            "Epoch 3/20\n",
            "18/18 [==============================] - 0s 8ms/step - loss: 0.7101 - accuracy: 0.8409\n",
            "Epoch 4/20\n",
            "18/18 [==============================] - 0s 8ms/step - loss: 0.4031 - accuracy: 0.8864\n",
            "Epoch 5/20\n",
            "18/18 [==============================] - 0s 10ms/step - loss: 0.2299 - accuracy: 0.9432\n",
            "Epoch 6/20\n",
            "18/18 [==============================] - 0s 8ms/step - loss: 0.1591 - accuracy: 0.9659\n",
            "Epoch 7/20\n",
            "18/18 [==============================] - 0s 9ms/step - loss: 0.1098 - accuracy: 0.9659\n",
            "Epoch 8/20\n",
            "18/18 [==============================] - 0s 9ms/step - loss: 0.0888 - accuracy: 0.9886\n",
            "Epoch 9/20\n",
            "18/18 [==============================] - 0s 10ms/step - loss: 0.0698 - accuracy: 0.9886\n",
            "Epoch 10/20\n",
            "18/18 [==============================] - 0s 5ms/step - loss: 0.0752 - accuracy: 0.9773\n",
            "Epoch 11/20\n",
            "18/18 [==============================] - 0s 8ms/step - loss: 0.0505 - accuracy: 0.9886\n",
            "Epoch 12/20\n",
            "18/18 [==============================] - 0s 9ms/step - loss: 0.0499 - accuracy: 0.9886\n",
            "Epoch 13/20\n",
            "18/18 [==============================] - 0s 7ms/step - loss: 0.0695 - accuracy: 0.9773\n",
            "Epoch 14/20\n",
            "18/18 [==============================] - 0s 11ms/step - loss: 0.0438 - accuracy: 0.9773\n",
            "Epoch 15/20\n",
            "18/18 [==============================] - 0s 5ms/step - loss: 0.0593 - accuracy: 0.9659\n",
            "Epoch 16/20\n",
            "18/18 [==============================] - 0s 5ms/step - loss: 0.0686 - accuracy: 0.9773\n",
            "Epoch 17/20\n",
            "18/18 [==============================] - 0s 6ms/step - loss: 0.0498 - accuracy: 0.9773\n",
            "Epoch 18/20\n",
            "18/18 [==============================] - 0s 9ms/step - loss: 0.0403 - accuracy: 0.9886\n",
            "Epoch 19/20\n",
            "18/18 [==============================] - 0s 9ms/step - loss: 0.0376 - accuracy: 0.9886\n",
            "Epoch 20/20\n",
            "18/18 [==============================] - 0s 10ms/step - loss: 0.0332 - accuracy: 0.9886\n"
          ],
          "name": "stdout"
        },
        {
          "output_type": "execute_result",
          "data": {
            "text/plain": [
              "<tensorflow.python.keras.callbacks.History at 0x7fec90cd9d30>"
            ]
          },
          "metadata": {
            "tags": []
          },
          "execution_count": 65
        }
      ]
    },
    {
      "cell_type": "code",
      "metadata": {
        "id": "8-63JaztE-us",
        "colab_type": "code",
        "colab": {
          "base_uri": "https://localhost:8080/",
          "height": 374
        },
        "outputId": "303dd161-de72-4294-a7d2-37ecdb44a9fe"
      },
      "source": [
        "model.summary()"
      ],
      "execution_count": 66,
      "outputs": [
        {
          "output_type": "stream",
          "text": [
            "Model: \"functional_5\"\n",
            "__________________________________________________________________________________________________\n",
            "Layer (type)                    Output Shape         Param #     Connected to                     \n",
            "==================================================================================================\n",
            "input_3 (InputLayer)            [(None, 10, 50)]     0                                            \n",
            "__________________________________________________________________________________________________\n",
            "conv1d_4 (Conv1D)               (None, 8, 500)       75500       input_3[0][0]                    \n",
            "__________________________________________________________________________________________________\n",
            "conv1d_5 (Conv1D)               (None, 7, 500)       100500      input_3[0][0]                    \n",
            "__________________________________________________________________________________________________\n",
            "concatenate_2 (Concatenate)     (None, 15, 500)      0           conv1d_4[0][0]                   \n",
            "                                                                 conv1d_5[0][0]                   \n",
            "__________________________________________________________________________________________________\n",
            "flatten_2 (Flatten)             (None, 7500)         0           concatenate_2[0][0]              \n",
            "__________________________________________________________________________________________________\n",
            "dense_2 (Dense)                 (None, 18)           135018      flatten_2[0][0]                  \n",
            "==================================================================================================\n",
            "Total params: 311,018\n",
            "Trainable params: 311,018\n",
            "Non-trainable params: 0\n",
            "__________________________________________________________________________________________________\n"
          ],
          "name": "stdout"
        }
      ]
    },
    {
      "cell_type": "code",
      "metadata": {
        "id": "FyFdLvUVCEe-",
        "colab_type": "code",
        "colab": {
          "base_uri": "https://localhost:8080/",
          "height": 34
        },
        "outputId": "6775183c-1c54-4f4e-dfcc-d62a1de4ecbf"
      },
      "source": [
        "model.load_weights(checkpoint_filepath)"
      ],
      "execution_count": 67,
      "outputs": [
        {
          "output_type": "execute_result",
          "data": {
            "text/plain": [
              "<tensorflow.python.training.tracking.util.CheckpointLoadStatus at 0x7fec90957a58>"
            ]
          },
          "metadata": {
            "tags": []
          },
          "execution_count": 67
        }
      ]
    },
    {
      "cell_type": "code",
      "metadata": {
        "id": "3Jdw073wqYy6",
        "colab_type": "code",
        "colab": {}
      },
      "source": [
        "def bag_of_words(sentence):\n",
        "    sentence_token = nltk.wordpunct_tokenize(sentence)\n",
        "    sentence_token = [word.lower() for word in sentence_token]\n",
        "    return np.array(sentence_token)"
      ],
      "execution_count": 68,
      "outputs": []
    },
    {
      "cell_type": "code",
      "metadata": {
        "id": "BqNzltgyfqZD",
        "colab_type": "code",
        "colab": {}
      },
      "source": [
        "def chat():\n",
        "    print(\"Start Talking with the Bot,To Stop type quit\")\n",
        "    while True:\n",
        "        inp = input(\"You :   \")\n",
        "        if inp.lower() == \"quit\":\n",
        "            break \n",
        "\n",
        "        input_data = [bag_of_words(inp)]\n",
        "        input_data = tc.cnvt_word2vec(input_data,maxlen,embedding_size)\n",
        "        results = model.predict(input_data)[0]\n",
        "        results_index = np.argmax(results)\n",
        "        tag = le.classes_[results_index]\n",
        "       \n",
        "        if results[results_index] >= 0.05:\n",
        "            #Looping through the json file\n",
        "            for tags in bot[\"intents\"]:\n",
        "                if tags[\"tag\"] == tag:\n",
        "                    responses = tags[\"responses\"]\n",
        "            print(np.random.choice(responses))\n",
        "        \n",
        "        else:\n",
        "            print(\"I dont quite Understand, Ask another question\")"
      ],
      "execution_count": 69,
      "outputs": []
    },
    {
      "cell_type": "code",
      "metadata": {
        "id": "vHUymD_PEeyo",
        "colab_type": "code",
        "colab": {}
      },
      "source": [
        "def talk(inp):\n",
        "      input_data = [bag_of_words(inp)]\n",
        "      input_data = tc.cnvt_word2vec(input_data,maxlen,embedding_size)\n",
        "      results = model.predict(input_data)[0]\n",
        "      results_index = np.argmax(results)\n",
        "      tag = le.classes_[results_index]\n",
        "      \n",
        "      if results[results_index] >= 0.05:\n",
        "          #Looping through the json file\n",
        "          for tags in bot[\"intents\"]:\n",
        "              if tags[\"tag\"] == tag:\n",
        "                  responses = tags[\"responses\"]\n",
        "          return(np.random.choice(responses))\n",
        "      \n",
        "      else:\n",
        "          return(\"I dont quite Understand, Ask another question\")"
      ],
      "execution_count": 70,
      "outputs": []
    },
    {
      "cell_type": "code",
      "metadata": {
        "id": "en8VlTLSuw4d",
        "colab_type": "code",
        "colab": {
          "base_uri": "https://localhost:8080/",
          "height": 901
        },
        "outputId": "b50716f9-253a-404c-bc3c-8c9b183df0ce"
      },
      "source": [
        "chat()"
      ],
      "execution_count": 71,
      "outputs": [
        {
          "output_type": "stream",
          "text": [
            "Start Talking with the Bot,To Stop type quit\n",
            "You :   hi\n",
            "Hi there, how can I help?\n",
            "You :   can you dance?\n",
            "I can guide you through\n",
            " 1)Password Reset\n",
            "2) Trouble-Shooting issues\n",
            "3) Virus Issues\n",
            "4) Printing Issues\n",
            "5) many more IT issues\n",
            "You :   blue screen of eath\n",
            "rebooting can help the issue\n",
            "You :   usb issues\n",
            "First things to check are:\n",
            "1) Does the device work in a different USB port on the machine?\n",
            "2) Are other devices recognised in that port?\n",
            "3) Does the device work on another user’s machine?\n",
            " If you have tried these troubleshooting methods and still no luck, then your IT support help-desk can proceed with some more in-depth troubleshooting.\n",
            "You :   wifi\n",
            "Not sure I understand\n",
            "You :   wifi troubles\n",
            "The reset pin has been sent on your registered mobile number\n"
          ],
          "name": "stdout"
        },
        {
          "output_type": "error",
          "ename": "KeyboardInterrupt",
          "evalue": "ignored",
          "traceback": [
            "\u001b[0;31m---------------------------------------------------------------------------\u001b[0m",
            "\u001b[0;31mKeyboardInterrupt\u001b[0m                         Traceback (most recent call last)",
            "\u001b[0;32m/usr/local/lib/python3.6/dist-packages/ipykernel/kernelbase.py\u001b[0m in \u001b[0;36m_input_request\u001b[0;34m(self, prompt, ident, parent, password)\u001b[0m\n\u001b[1;32m    728\u001b[0m             \u001b[0;32mtry\u001b[0m\u001b[0;34m:\u001b[0m\u001b[0;34m\u001b[0m\u001b[0;34m\u001b[0m\u001b[0m\n\u001b[0;32m--> 729\u001b[0;31m                 \u001b[0mident\u001b[0m\u001b[0;34m,\u001b[0m \u001b[0mreply\u001b[0m \u001b[0;34m=\u001b[0m \u001b[0mself\u001b[0m\u001b[0;34m.\u001b[0m\u001b[0msession\u001b[0m\u001b[0;34m.\u001b[0m\u001b[0mrecv\u001b[0m\u001b[0;34m(\u001b[0m\u001b[0mself\u001b[0m\u001b[0;34m.\u001b[0m\u001b[0mstdin_socket\u001b[0m\u001b[0;34m,\u001b[0m \u001b[0;36m0\u001b[0m\u001b[0;34m)\u001b[0m\u001b[0;34m\u001b[0m\u001b[0;34m\u001b[0m\u001b[0m\n\u001b[0m\u001b[1;32m    730\u001b[0m             \u001b[0;32mexcept\u001b[0m \u001b[0mException\u001b[0m\u001b[0;34m:\u001b[0m\u001b[0;34m\u001b[0m\u001b[0;34m\u001b[0m\u001b[0m\n",
            "\u001b[0;32m/usr/local/lib/python3.6/dist-packages/jupyter_client/session.py\u001b[0m in \u001b[0;36mrecv\u001b[0;34m(self, socket, mode, content, copy)\u001b[0m\n\u001b[1;32m    802\u001b[0m         \u001b[0;32mtry\u001b[0m\u001b[0;34m:\u001b[0m\u001b[0;34m\u001b[0m\u001b[0;34m\u001b[0m\u001b[0m\n\u001b[0;32m--> 803\u001b[0;31m             \u001b[0mmsg_list\u001b[0m \u001b[0;34m=\u001b[0m \u001b[0msocket\u001b[0m\u001b[0;34m.\u001b[0m\u001b[0mrecv_multipart\u001b[0m\u001b[0;34m(\u001b[0m\u001b[0mmode\u001b[0m\u001b[0;34m,\u001b[0m \u001b[0mcopy\u001b[0m\u001b[0;34m=\u001b[0m\u001b[0mcopy\u001b[0m\u001b[0;34m)\u001b[0m\u001b[0;34m\u001b[0m\u001b[0;34m\u001b[0m\u001b[0m\n\u001b[0m\u001b[1;32m    804\u001b[0m         \u001b[0;32mexcept\u001b[0m \u001b[0mzmq\u001b[0m\u001b[0;34m.\u001b[0m\u001b[0mZMQError\u001b[0m \u001b[0;32mas\u001b[0m \u001b[0me\u001b[0m\u001b[0;34m:\u001b[0m\u001b[0;34m\u001b[0m\u001b[0;34m\u001b[0m\u001b[0m\n",
            "\u001b[0;32m/usr/local/lib/python3.6/dist-packages/zmq/sugar/socket.py\u001b[0m in \u001b[0;36mrecv_multipart\u001b[0;34m(self, flags, copy, track)\u001b[0m\n\u001b[1;32m    490\u001b[0m         \"\"\"\n\u001b[0;32m--> 491\u001b[0;31m         \u001b[0mparts\u001b[0m \u001b[0;34m=\u001b[0m \u001b[0;34m[\u001b[0m\u001b[0mself\u001b[0m\u001b[0;34m.\u001b[0m\u001b[0mrecv\u001b[0m\u001b[0;34m(\u001b[0m\u001b[0mflags\u001b[0m\u001b[0;34m,\u001b[0m \u001b[0mcopy\u001b[0m\u001b[0;34m=\u001b[0m\u001b[0mcopy\u001b[0m\u001b[0;34m,\u001b[0m \u001b[0mtrack\u001b[0m\u001b[0;34m=\u001b[0m\u001b[0mtrack\u001b[0m\u001b[0;34m)\u001b[0m\u001b[0;34m]\u001b[0m\u001b[0;34m\u001b[0m\u001b[0;34m\u001b[0m\u001b[0m\n\u001b[0m\u001b[1;32m    492\u001b[0m         \u001b[0;31m# have first part already, only loop while more to receive\u001b[0m\u001b[0;34m\u001b[0m\u001b[0;34m\u001b[0m\u001b[0;34m\u001b[0m\u001b[0m\n",
            "\u001b[0;32mzmq/backend/cython/socket.pyx\u001b[0m in \u001b[0;36mzmq.backend.cython.socket.Socket.recv\u001b[0;34m()\u001b[0m\n",
            "\u001b[0;32mzmq/backend/cython/socket.pyx\u001b[0m in \u001b[0;36mzmq.backend.cython.socket.Socket.recv\u001b[0;34m()\u001b[0m\n",
            "\u001b[0;32mzmq/backend/cython/socket.pyx\u001b[0m in \u001b[0;36mzmq.backend.cython.socket._recv_copy\u001b[0;34m()\u001b[0m\n",
            "\u001b[0;32m/usr/local/lib/python3.6/dist-packages/zmq/backend/cython/checkrc.pxd\u001b[0m in \u001b[0;36mzmq.backend.cython.checkrc._check_rc\u001b[0;34m()\u001b[0m\n",
            "\u001b[0;31mKeyboardInterrupt\u001b[0m: ",
            "\nDuring handling of the above exception, another exception occurred:\n",
            "\u001b[0;31mKeyboardInterrupt\u001b[0m                         Traceback (most recent call last)",
            "\u001b[0;32m<ipython-input-71-e57ee30c65ef>\u001b[0m in \u001b[0;36m<module>\u001b[0;34m()\u001b[0m\n\u001b[0;32m----> 1\u001b[0;31m \u001b[0mchat\u001b[0m\u001b[0;34m(\u001b[0m\u001b[0;34m)\u001b[0m\u001b[0;34m\u001b[0m\u001b[0;34m\u001b[0m\u001b[0m\n\u001b[0m",
            "\u001b[0;32m<ipython-input-69-3afcbd2140fe>\u001b[0m in \u001b[0;36mchat\u001b[0;34m()\u001b[0m\n\u001b[1;32m      2\u001b[0m     \u001b[0mprint\u001b[0m\u001b[0;34m(\u001b[0m\u001b[0;34m\"Start Talking with the Bot,To Stop type quit\"\u001b[0m\u001b[0;34m)\u001b[0m\u001b[0;34m\u001b[0m\u001b[0;34m\u001b[0m\u001b[0m\n\u001b[1;32m      3\u001b[0m     \u001b[0;32mwhile\u001b[0m \u001b[0;32mTrue\u001b[0m\u001b[0;34m:\u001b[0m\u001b[0;34m\u001b[0m\u001b[0;34m\u001b[0m\u001b[0m\n\u001b[0;32m----> 4\u001b[0;31m         \u001b[0minp\u001b[0m \u001b[0;34m=\u001b[0m \u001b[0minput\u001b[0m\u001b[0;34m(\u001b[0m\u001b[0;34m\"You :   \"\u001b[0m\u001b[0;34m)\u001b[0m\u001b[0;34m\u001b[0m\u001b[0;34m\u001b[0m\u001b[0m\n\u001b[0m\u001b[1;32m      5\u001b[0m         \u001b[0;32mif\u001b[0m \u001b[0minp\u001b[0m\u001b[0;34m.\u001b[0m\u001b[0mlower\u001b[0m\u001b[0;34m(\u001b[0m\u001b[0;34m)\u001b[0m \u001b[0;34m==\u001b[0m \u001b[0;34m\"quit\"\u001b[0m\u001b[0;34m:\u001b[0m\u001b[0;34m\u001b[0m\u001b[0;34m\u001b[0m\u001b[0m\n\u001b[1;32m      6\u001b[0m             \u001b[0;32mbreak\u001b[0m\u001b[0;34m\u001b[0m\u001b[0;34m\u001b[0m\u001b[0m\n",
            "\u001b[0;32m/usr/local/lib/python3.6/dist-packages/ipykernel/kernelbase.py\u001b[0m in \u001b[0;36mraw_input\u001b[0;34m(self, prompt)\u001b[0m\n\u001b[1;32m    702\u001b[0m             \u001b[0mself\u001b[0m\u001b[0;34m.\u001b[0m\u001b[0m_parent_ident\u001b[0m\u001b[0;34m,\u001b[0m\u001b[0;34m\u001b[0m\u001b[0;34m\u001b[0m\u001b[0m\n\u001b[1;32m    703\u001b[0m             \u001b[0mself\u001b[0m\u001b[0;34m.\u001b[0m\u001b[0m_parent_header\u001b[0m\u001b[0;34m,\u001b[0m\u001b[0;34m\u001b[0m\u001b[0;34m\u001b[0m\u001b[0m\n\u001b[0;32m--> 704\u001b[0;31m             \u001b[0mpassword\u001b[0m\u001b[0;34m=\u001b[0m\u001b[0;32mFalse\u001b[0m\u001b[0;34m,\u001b[0m\u001b[0;34m\u001b[0m\u001b[0;34m\u001b[0m\u001b[0m\n\u001b[0m\u001b[1;32m    705\u001b[0m         )\n\u001b[1;32m    706\u001b[0m \u001b[0;34m\u001b[0m\u001b[0m\n",
            "\u001b[0;32m/usr/local/lib/python3.6/dist-packages/ipykernel/kernelbase.py\u001b[0m in \u001b[0;36m_input_request\u001b[0;34m(self, prompt, ident, parent, password)\u001b[0m\n\u001b[1;32m    732\u001b[0m             \u001b[0;32mexcept\u001b[0m \u001b[0mKeyboardInterrupt\u001b[0m\u001b[0;34m:\u001b[0m\u001b[0;34m\u001b[0m\u001b[0;34m\u001b[0m\u001b[0m\n\u001b[1;32m    733\u001b[0m                 \u001b[0;31m# re-raise KeyboardInterrupt, to truncate traceback\u001b[0m\u001b[0;34m\u001b[0m\u001b[0;34m\u001b[0m\u001b[0;34m\u001b[0m\u001b[0m\n\u001b[0;32m--> 734\u001b[0;31m                 \u001b[0;32mraise\u001b[0m \u001b[0mKeyboardInterrupt\u001b[0m\u001b[0;34m\u001b[0m\u001b[0;34m\u001b[0m\u001b[0m\n\u001b[0m\u001b[1;32m    735\u001b[0m             \u001b[0;32melse\u001b[0m\u001b[0;34m:\u001b[0m\u001b[0;34m\u001b[0m\u001b[0;34m\u001b[0m\u001b[0m\n\u001b[1;32m    736\u001b[0m                 \u001b[0;32mbreak\u001b[0m\u001b[0;34m\u001b[0m\u001b[0;34m\u001b[0m\u001b[0m\n",
            "\u001b[0;31mKeyboardInterrupt\u001b[0m: "
          ]
        }
      ]
    },
    {
      "cell_type": "code",
      "metadata": {
        "id": "MzX_1kW9Ett6",
        "colab_type": "code",
        "colab": {
          "base_uri": "https://localhost:8080/",
          "height": 272
        },
        "outputId": "7792299f-dd6e-4207-d0a2-245d15e5212a"
      },
      "source": [
        "!pip install flask_ngrok"
      ],
      "execution_count": 72,
      "outputs": [
        {
          "output_type": "stream",
          "text": [
            "Collecting flask_ngrok\n",
            "  Downloading https://files.pythonhosted.org/packages/af/6c/f54cb686ad1129e27d125d182f90f52b32f284e6c8df58c1bae54fa1adbc/flask_ngrok-0.0.25-py3-none-any.whl\n",
            "Requirement already satisfied: Flask>=0.8 in /usr/local/lib/python3.6/dist-packages (from flask_ngrok) (1.1.2)\n",
            "Requirement already satisfied: requests in /usr/local/lib/python3.6/dist-packages (from flask_ngrok) (2.23.0)\n",
            "Requirement already satisfied: itsdangerous>=0.24 in /usr/local/lib/python3.6/dist-packages (from Flask>=0.8->flask_ngrok) (1.1.0)\n",
            "Requirement already satisfied: Werkzeug>=0.15 in /usr/local/lib/python3.6/dist-packages (from Flask>=0.8->flask_ngrok) (1.0.1)\n",
            "Requirement already satisfied: Jinja2>=2.10.1 in /usr/local/lib/python3.6/dist-packages (from Flask>=0.8->flask_ngrok) (2.11.2)\n",
            "Requirement already satisfied: click>=5.1 in /usr/local/lib/python3.6/dist-packages (from Flask>=0.8->flask_ngrok) (7.1.2)\n",
            "Requirement already satisfied: chardet<4,>=3.0.2 in /usr/local/lib/python3.6/dist-packages (from requests->flask_ngrok) (3.0.4)\n",
            "Requirement already satisfied: idna<3,>=2.5 in /usr/local/lib/python3.6/dist-packages (from requests->flask_ngrok) (2.10)\n",
            "Requirement already satisfied: urllib3!=1.25.0,!=1.25.1,<1.26,>=1.21.1 in /usr/local/lib/python3.6/dist-packages (from requests->flask_ngrok) (1.24.3)\n",
            "Requirement already satisfied: certifi>=2017.4.17 in /usr/local/lib/python3.6/dist-packages (from requests->flask_ngrok) (2020.6.20)\n",
            "Requirement already satisfied: MarkupSafe>=0.23 in /usr/local/lib/python3.6/dist-packages (from Jinja2>=2.10.1->Flask>=0.8->flask_ngrok) (1.1.1)\n",
            "Installing collected packages: flask-ngrok\n",
            "Successfully installed flask-ngrok-0.0.25\n"
          ],
          "name": "stdout"
        }
      ]
    },
    {
      "cell_type": "code",
      "metadata": {
        "id": "OKKcrPJOwfsV",
        "colab_type": "code",
        "colab": {
          "base_uri": "https://localhost:8080/",
          "height": 442
        },
        "outputId": "7bb404dd-528e-4a55-b8f4-4064ee92ed2c"
      },
      "source": [
        "from flask_ngrok import run_with_ngrok\n",
        "from flask import Flask, render_template, request\n",
        "from flask import Flask\n",
        "app = Flask(__name__)\n",
        "run_with_ngrok(app)   #starts ngrok when the app is run\n",
        "@app.route(\"/\")\n",
        "def home():\n",
        "    return render_template(\"index.html\") \n",
        "@app.route(\"/get\")\n",
        "def get_bot_response():    \n",
        "    userText = request.args.get('msg')  \n",
        "    print(userText)\n",
        "    response = str(talk(userText))\n",
        "    print(response)  \n",
        "    return response\n",
        "app.run()"
      ],
      "execution_count": 73,
      "outputs": [
        {
          "output_type": "stream",
          "text": [
            " * Serving Flask app \"__main__\" (lazy loading)\n",
            " * Environment: production\n",
            "\u001b[31m   WARNING: This is a development server. Do not use it in a production deployment.\u001b[0m\n",
            "\u001b[2m   Use a production WSGI server instead.\u001b[0m\n",
            " * Debug mode: off\n"
          ],
          "name": "stdout"
        },
        {
          "output_type": "stream",
          "text": [
            " * Running on http://127.0.0.1:5000/ (Press CTRL+C to quit)\n"
          ],
          "name": "stderr"
        },
        {
          "output_type": "stream",
          "text": [
            " * Running on http://4486811f2e48.ngrok.io\n",
            " * Traffic stats available on http://127.0.0.1:4040\n"
          ],
          "name": "stdout"
        },
        {
          "output_type": "stream",
          "text": [
            "127.0.0.1 - - [08/Aug/2020 07:51:04] \"\u001b[37mGET / HTTP/1.1\u001b[0m\" 200 -\n",
            "127.0.0.1 - - [08/Aug/2020 07:51:05] \"\u001b[37mGET /static/style.css HTTP/1.1\u001b[0m\" 200 -\n",
            "127.0.0.1 - - [08/Aug/2020 07:51:06] \"\u001b[33mGET /favicon.ico HTTP/1.1\u001b[0m\" 404 -\n",
            "127.0.0.1 - - [08/Aug/2020 07:51:10] \"\u001b[37mGET /get?msg=hi HTTP/1.1\u001b[0m\" 200 -\n"
          ],
          "name": "stderr"
        },
        {
          "output_type": "stream",
          "text": [
            "hi\n",
            "Hi there, how can I help?\n"
          ],
          "name": "stdout"
        },
        {
          "output_type": "stream",
          "text": [
            "127.0.0.1 - - [08/Aug/2020 07:51:23] \"\u001b[37mGET /get?msg=can%20you%20dance%3F HTTP/1.1\u001b[0m\" 200 -\n"
          ],
          "name": "stderr"
        },
        {
          "output_type": "stream",
          "text": [
            "can you dance?\n",
            "Offering support for \n",
            "1) Password Reset\n",
            "2) Trouble-Shooting issues\n",
            "3) Virus Issues\n",
            "4) Printer issues\n",
            "5) Other IT tasks\n"
          ],
          "name": "stdout"
        },
        {
          "output_type": "stream",
          "text": [
            "127.0.0.1 - - [08/Aug/2020 07:51:35] \"\u001b[37mGET /get?msg=blue%20screen%20of%20deth HTTP/1.1\u001b[0m\" 200 -\n"
          ],
          "name": "stderr"
        },
        {
          "output_type": "stream",
          "text": [
            "blue screen of deth\n",
            "Simply rebooting can fix the blue screen of death (or STOP error, as it is otherwise known).\n"
          ],
          "name": "stdout"
        }
      ]
    },
    {
      "cell_type": "markdown",
      "metadata": {
        "id": "ZZJeTl-AFDdx",
        "colab_type": "text"
      },
      "source": [
        ""
      ]
    },
    {
      "cell_type": "code",
      "metadata": {
        "id": "6XK6CIKQEqGg",
        "colab_type": "code",
        "colab": {}
      },
      "source": [
        ""
      ],
      "execution_count": null,
      "outputs": []
    }
  ]
}