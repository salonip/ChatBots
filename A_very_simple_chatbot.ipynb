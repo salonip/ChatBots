{
  "nbformat": 4,
  "nbformat_minor": 0,
  "metadata": {
    "colab": {
      "name": "A very simple chatbot.ipynb",
      "provenance": [],
      "collapsed_sections": [],
      "authorship_tag": "ABX9TyOQikmDAdzPGLo7Ulz8TGD8",
      "include_colab_link": true
    },
    "kernelspec": {
      "name": "python3",
      "display_name": "Python 3"
    },
    "accelerator": "TPU"
  },
  "cells": [
    {
      "cell_type": "markdown",
      "metadata": {
        "id": "view-in-github",
        "colab_type": "text"
      },
      "source": [
        "<a href=\"https://colab.research.google.com/github/salonip/ChatBots/blob/master/A_very_simple_chatbot.ipynb\" target=\"_parent\"><img src=\"https://colab.research.google.com/assets/colab-badge.svg\" alt=\"Open In Colab\"/></a>"
      ]
    },
    {
      "cell_type": "code",
      "metadata": {
        "id": "PdLazsOETc_O",
        "colab_type": "code",
        "colab": {}
      },
      "source": [
        "\n",
        "import json\n",
        "import numpy as np \n",
        "import nltk \n",
        "import tensorflow as tf\n",
        "from nltk.stem.porter import PorterStemmer\n",
        "ps = PorterStemmer()"
      ],
      "execution_count": 79,
      "outputs": []
    },
    {
      "cell_type": "code",
      "metadata": {
        "id": "2ctZ77UGrVhy",
        "colab_type": "code",
        "colab": {
          "base_uri": "https://localhost:8080/",
          "height": 34
        },
        "outputId": "500c5a12-12dc-429f-9cee-442aa33edc21"
      },
      "source": [
        "from google.colab import drive\n",
        "drive.mount('/content/drive/')"
      ],
      "execution_count": 80,
      "outputs": [
        {
          "output_type": "stream",
          "text": [
            "Drive already mounted at /content/drive/; to attempt to forcibly remount, call drive.mount(\"/content/drive/\", force_remount=True).\n"
          ],
          "name": "stdout"
        }
      ]
    },
    {
      "cell_type": "code",
      "metadata": {
        "id": "7GHItykWXTrh",
        "colab_type": "code",
        "colab": {}
      },
      "source": [
        "import os\n",
        "project_path = \"/content/drive/My Drive/chatbot/\"\n",
        "os.chdir(project_path)"
      ],
      "execution_count": 81,
      "outputs": []
    },
    {
      "cell_type": "code",
      "metadata": {
        "id": "fadUiIk1WNxw",
        "colab_type": "code",
        "colab": {}
      },
      "source": [
        "\n",
        "with open(\"intents.json\") as file:\n",
        "    bot = json.load(file)"
      ],
      "execution_count": 82,
      "outputs": []
    },
    {
      "cell_type": "code",
      "metadata": {
        "id": "SsZX22TqZIDC",
        "colab_type": "code",
        "colab": {}
      },
      "source": [
        "words = []\n",
        "labels = []\n",
        "intent_part_x = []\n",
        "intent_part_y = []\n",
        "\n",
        "\n",
        "for intent in bot[\"intents\"]:\n",
        "    for pattern in intent[\"patterns\"]:\n",
        "        token = nltk.wordpunct_tokenize(pattern) #Tokenizing the pattern\n",
        "        #Since token is a list no need of appending we just use the function extend\n",
        "        words.extend(token)\n",
        "        intent_part_x.append(token)\n",
        "        intent_part_y.append(intent[\"tag\"])\n",
        "\n",
        "    if intent[\"tag\"] not in labels:\n",
        "        labels.append(intent[\"tag\"])"
      ],
      "execution_count": 83,
      "outputs": []
    },
    {
      "cell_type": "code",
      "metadata": {
        "id": "jSOnZ2_TkIux",
        "colab_type": "code",
        "colab": {
          "base_uri": "https://localhost:8080/",
          "height": 34
        },
        "outputId": "d15a53bd-b85f-4553-900f-ae268f6a6cba"
      },
      "source": [
        "len(words)"
      ],
      "execution_count": 84,
      "outputs": [
        {
          "output_type": "execute_result",
          "data": {
            "text/plain": [
              "365"
            ]
          },
          "metadata": {
            "tags": []
          },
          "execution_count": 84
        }
      ]
    },
    {
      "cell_type": "code",
      "metadata": {
        "id": "LHL4f0XokU34",
        "colab_type": "code",
        "colab": {
          "base_uri": "https://localhost:8080/",
          "height": 187
        },
        "outputId": "4fa328d2-22f3-49d8-cd54-42cad77bdb99"
      },
      "source": [
        "labels[0:10]"
      ],
      "execution_count": 85,
      "outputs": [
        {
          "output_type": "execute_result",
          "data": {
            "text/plain": [
              "['greeting',\n",
              " 'goodbye',\n",
              " 'thanks',\n",
              " 'noanswer',\n",
              " 'options',\n",
              " 'Password Reset',\n",
              " 'E-mail id',\n",
              " 'Blue Sreen issue',\n",
              " 'Deleted files',\n",
              " 'Unsaved Document']"
            ]
          },
          "metadata": {
            "tags": []
          },
          "execution_count": 85
        }
      ]
    },
    {
      "cell_type": "code",
      "metadata": {
        "id": "pz1ee6KpkX4J",
        "colab_type": "code",
        "colab": {
          "base_uri": "https://localhost:8080/",
          "height": 34
        },
        "outputId": "d6659b09-5ee1-4b92-d660-d0e58544a100"
      },
      "source": [
        "intent_part_x[0:2]"
      ],
      "execution_count": 86,
      "outputs": [
        {
          "output_type": "execute_result",
          "data": {
            "text/plain": [
              "[['Hi', 'there'], ['Hello']]"
            ]
          },
          "metadata": {
            "tags": []
          },
          "execution_count": 86
        }
      ]
    },
    {
      "cell_type": "code",
      "metadata": {
        "id": "AHWtW4CWkboe",
        "colab_type": "code",
        "colab": {
          "base_uri": "https://localhost:8080/",
          "height": 34
        },
        "outputId": "525829ec-7575-4fee-f7f7-6b4eed80396d"
      },
      "source": [
        "intent_part_y[0:5]"
      ],
      "execution_count": 87,
      "outputs": [
        {
          "output_type": "execute_result",
          "data": {
            "text/plain": [
              "['greeting', 'greeting', 'greeting', 'greeting', 'greeting']"
            ]
          },
          "metadata": {
            "tags": []
          },
          "execution_count": 87
        }
      ]
    },
    {
      "cell_type": "code",
      "metadata": {
        "id": "hXNN-r9Ykj9F",
        "colab_type": "code",
        "colab": {}
      },
      "source": [
        "punctuations = '''!()-[]{};:'\"\\,<>./?@#$%^&*_~'''\n",
        "words = [ps.stem(w.lower()) for w in words if w not in punctuations]\n",
        "words = sorted(list(set(words)))\n",
        "labels = sorted(labels)"
      ],
      "execution_count": 88,
      "outputs": []
    },
    {
      "cell_type": "code",
      "metadata": {
        "id": "AG3YueCPYAyn",
        "colab_type": "code",
        "colab": {
          "base_uri": "https://localhost:8080/",
          "height": 34
        },
        "outputId": "63a2292b-096a-4fde-cbd7-bd3346c03ea2"
      },
      "source": [
        "out_empty = [0 for i,col in enumerate(labels)]\n",
        "out_empty"
      ],
      "execution_count": 89,
      "outputs": [
        {
          "output_type": "execute_result",
          "data": {
            "text/plain": [
              "[0, 0, 0, 0, 0, 0, 0, 0, 0, 0, 0, 0, 0, 0, 0, 0, 0, 0]"
            ]
          },
          "metadata": {
            "tags": []
          },
          "execution_count": 89
        }
      ]
    },
    {
      "cell_type": "code",
      "metadata": {
        "id": "GFKQ5ZNkaZas",
        "colab_type": "code",
        "colab": {}
      },
      "source": [
        "train = []\n",
        "output = []\n",
        "for x, doc in enumerate(intent_part_x):\n",
        "    bow = []\n",
        "\n",
        "    token = [ps.stem(w) for w in doc]\n",
        "\n",
        "    for w in words:\n",
        "        if w in token:\n",
        "            bow.append(1)\n",
        "        else:\n",
        "            bow.append(0)\n",
        "\n",
        "\n",
        "    train.append(bow)  #Creating the Train \n",
        "    output.append(labels.index(intent_part_y[x])) #Creating the output list"
      ],
      "execution_count": 90,
      "outputs": []
    },
    {
      "cell_type": "code",
      "metadata": {
        "id": "rfLQhEcLevD0",
        "colab_type": "code",
        "colab": {
          "base_uri": "https://localhost:8080/",
          "height": 323
        },
        "outputId": "ef29fcda-b6ec-415e-aef5-d0dc8676864c"
      },
      "source": [
        "class_index = dict(zip(labels,range(0,len(labels))))\n",
        "class_index"
      ],
      "execution_count": 91,
      "outputs": [
        {
          "output_type": "execute_result",
          "data": {
            "text/plain": [
              "{'Blue Sreen issue': 0,\n",
              " 'Deleted files': 1,\n",
              " 'E-mail id': 2,\n",
              " 'Mouse': 3,\n",
              " 'Password Reset': 4,\n",
              " 'Printing issues': 5,\n",
              " 'Slow Computer': 6,\n",
              " 'Slow Internet': 7,\n",
              " 'USB': 8,\n",
              " 'Unexpected Shut Down': 9,\n",
              " 'Unsaved Document': 10,\n",
              " 'Vague': 11,\n",
              " 'Virus': 12,\n",
              " 'goodbye': 13,\n",
              " 'greeting': 14,\n",
              " 'noanswer': 15,\n",
              " 'options': 16,\n",
              " 'thanks': 17}"
            ]
          },
          "metadata": {
            "tags": []
          },
          "execution_count": 91
        }
      ]
    },
    {
      "cell_type": "code",
      "metadata": {
        "id": "-iFckyGPlUO2",
        "colab_type": "code",
        "colab": {}
      },
      "source": [
        "from keras.utils import to_categorical\n",
        "\n",
        "# one hot encode\n",
        "y = to_categorical(output)"
      ],
      "execution_count": 92,
      "outputs": []
    },
    {
      "cell_type": "code",
      "metadata": {
        "id": "il_jGaGpsSml",
        "colab_type": "code",
        "colab": {}
      },
      "source": [
        "model = tf.keras.Sequential()\n",
        "model.add(tf.keras.layers.Dense(500, input_shape=(len(train[0]),),activation='relu'))\n",
        "model.add(tf.keras.layers.Dropout(0.2))\n",
        "model.add(tf.keras.layers.Dense(len(class_index),activation='softmax'))\n"
      ],
      "execution_count": 98,
      "outputs": []
    },
    {
      "cell_type": "code",
      "metadata": {
        "id": "tF7QdlCTcwvs",
        "colab_type": "code",
        "colab": {}
      },
      "source": [
        "model.compile(loss='categorical_crossentropy', optimizer=\"adam\", metrics=['accuracy'])"
      ],
      "execution_count": 99,
      "outputs": []
    },
    {
      "cell_type": "code",
      "metadata": {
        "id": "S5kI4DS5glXD",
        "colab_type": "code",
        "colab": {
          "base_uri": "https://localhost:8080/",
          "height": 374
        },
        "outputId": "104d5f16-8686-422d-f9a7-9cbadff57785"
      },
      "source": [
        "model.fit(np.array(train), y, epochs=10, batch_size=8, verbose=1)\n"
      ],
      "execution_count": 100,
      "outputs": [
        {
          "output_type": "stream",
          "text": [
            "Epoch 1/10\n",
            "11/11 [==============================] - 0s 2ms/step - loss: 2.8868 - accuracy: 0.0114\n",
            "Epoch 2/10\n",
            "11/11 [==============================] - 0s 2ms/step - loss: 2.6664 - accuracy: 0.4886\n",
            "Epoch 3/10\n",
            "11/11 [==============================] - 0s 2ms/step - loss: 2.4556 - accuracy: 0.7159\n",
            "Epoch 4/10\n",
            "11/11 [==============================] - 0s 2ms/step - loss: 2.2441 - accuracy: 0.7955\n",
            "Epoch 5/10\n",
            "11/11 [==============================] - 0s 2ms/step - loss: 2.0320 - accuracy: 0.8295\n",
            "Epoch 6/10\n",
            "11/11 [==============================] - 0s 2ms/step - loss: 1.7869 - accuracy: 0.8977\n",
            "Epoch 7/10\n",
            "11/11 [==============================] - 0s 2ms/step - loss: 1.5778 - accuracy: 0.9091\n",
            "Epoch 8/10\n",
            "11/11 [==============================] - 0s 2ms/step - loss: 1.3576 - accuracy: 0.9318\n",
            "Epoch 9/10\n",
            "11/11 [==============================] - 0s 2ms/step - loss: 1.1556 - accuracy: 0.9432\n",
            "Epoch 10/10\n",
            "11/11 [==============================] - 0s 2ms/step - loss: 0.9846 - accuracy: 0.9432\n"
          ],
          "name": "stdout"
        },
        {
          "output_type": "execute_result",
          "data": {
            "text/plain": [
              "<tensorflow.python.keras.callbacks.History at 0x7fbc64932668>"
            ]
          },
          "metadata": {
            "tags": []
          },
          "execution_count": 100
        }
      ]
    },
    {
      "cell_type": "code",
      "metadata": {
        "id": "QKpB39dOqXQH",
        "colab_type": "code",
        "colab": {}
      },
      "source": [
        "from tensorflow.keras.models import load_model\n",
        "model = load_model('chatbotdemo')"
      ],
      "execution_count": 97,
      "outputs": []
    },
    {
      "cell_type": "code",
      "metadata": {
        "id": "7NotJL1AHxGe",
        "colab_type": "code",
        "colab": {
          "base_uri": "https://localhost:8080/",
          "height": 255
        },
        "outputId": "92f6c2a3-ddd0-4474-e951-a3e3964136c2"
      },
      "source": [
        "model.summary()"
      ],
      "execution_count": 101,
      "outputs": [
        {
          "output_type": "stream",
          "text": [
            "Model: \"sequential_2\"\n",
            "_________________________________________________________________\n",
            "Layer (type)                 Output Shape              Param #   \n",
            "=================================================================\n",
            "dense_2 (Dense)              (None, 500)               69000     \n",
            "_________________________________________________________________\n",
            "dropout_1 (Dropout)          (None, 500)               0         \n",
            "_________________________________________________________________\n",
            "dense_3 (Dense)              (None, 18)                9018      \n",
            "=================================================================\n",
            "Total params: 78,018\n",
            "Trainable params: 78,018\n",
            "Non-trainable params: 0\n",
            "_________________________________________________________________\n"
          ],
          "name": "stdout"
        }
      ]
    },
    {
      "cell_type": "code",
      "metadata": {
        "id": "3Jdw073wqYy6",
        "colab_type": "code",
        "colab": {}
      },
      "source": [
        "def bow(sentence,words):\n",
        "    bag = [ 0 for i in range(len(words))]\n",
        "\n",
        "    sentence_token = nltk.wordpunct_tokenize(sentence)\n",
        "    sentence_token = [ps.stem(word.lower()) for word in sentence_token]\n",
        "\n",
        "    for token in sentence_token:\n",
        "        for i, word in enumerate(words):\n",
        "            if word == token:\n",
        "                bag[i] = 1\n",
        "    \n",
        "    return np.array(bag).reshape(-1,len(train[0]))"
      ],
      "execution_count": 102,
      "outputs": []
    },
    {
      "cell_type": "code",
      "metadata": {
        "id": "gp3GBEVVfJ4Y",
        "colab_type": "code",
        "colab": {
          "base_uri": "https://localhost:8080/",
          "height": 221
        },
        "outputId": "1bdad1d9-80d6-4cdd-e521-8430d92f948d"
      },
      "source": [
        "!pip install flask-ngrok"
      ],
      "execution_count": 63,
      "outputs": [
        {
          "output_type": "stream",
          "text": [
            "Requirement already satisfied: flask-ngrok in /usr/local/lib/python3.6/dist-packages (0.0.25)\n",
            "Requirement already satisfied: Flask>=0.8 in /usr/local/lib/python3.6/dist-packages (from flask-ngrok) (1.1.2)\n",
            "Requirement already satisfied: requests in /usr/local/lib/python3.6/dist-packages (from flask-ngrok) (2.23.0)\n",
            "Requirement already satisfied: Jinja2>=2.10.1 in /usr/local/lib/python3.6/dist-packages (from Flask>=0.8->flask-ngrok) (2.11.2)\n",
            "Requirement already satisfied: itsdangerous>=0.24 in /usr/local/lib/python3.6/dist-packages (from Flask>=0.8->flask-ngrok) (1.1.0)\n",
            "Requirement already satisfied: click>=5.1 in /usr/local/lib/python3.6/dist-packages (from Flask>=0.8->flask-ngrok) (7.1.2)\n",
            "Requirement already satisfied: Werkzeug>=0.15 in /usr/local/lib/python3.6/dist-packages (from Flask>=0.8->flask-ngrok) (1.0.1)\n",
            "Requirement already satisfied: urllib3!=1.25.0,!=1.25.1,<1.26,>=1.21.1 in /usr/local/lib/python3.6/dist-packages (from requests->flask-ngrok) (1.24.3)\n",
            "Requirement already satisfied: idna<3,>=2.5 in /usr/local/lib/python3.6/dist-packages (from requests->flask-ngrok) (2.10)\n",
            "Requirement already satisfied: certifi>=2017.4.17 in /usr/local/lib/python3.6/dist-packages (from requests->flask-ngrok) (2020.6.20)\n",
            "Requirement already satisfied: chardet<4,>=3.0.2 in /usr/local/lib/python3.6/dist-packages (from requests->flask-ngrok) (3.0.4)\n",
            "Requirement already satisfied: MarkupSafe>=0.23 in /usr/local/lib/python3.6/dist-packages (from Jinja2>=2.10.1->Flask>=0.8->flask-ngrok) (1.1.1)\n"
          ],
          "name": "stdout"
        }
      ]
    },
    {
      "cell_type": "code",
      "metadata": {
        "id": "Q8fWRcynmkcP",
        "colab_type": "code",
        "colab": {}
      },
      "source": [
        "import tf.keras.backend.tensorflow_backend as tb\n",
        "tb._SYMBOLIC_SCOPE.value = True"
      ],
      "execution_count": 64,
      "outputs": []
    },
    {
      "cell_type": "code",
      "metadata": {
        "id": "DFYHI2lKkKZx",
        "colab_type": "code",
        "colab": {}
      },
      "source": [
        "def talk(inp):\n",
        "    global model\n",
        "    if inp.lower() == \"quit\":\n",
        "        return \n",
        "    input_data = [bow(inp, words)]\n",
        "    results = model.predict(input_data)[0]\n",
        "    results_index = np.argmax(results)\n",
        "    tag = labels[results_index]\n",
        "\n",
        "    if results[results_index] >= 0.05:\n",
        "\t    #Looping through the json file\n",
        "        for tags in bot[\"intents\"]:\n",
        "            if tags[\"tag\"] == tag:\n",
        "                responses = tags[\"responses\"]\n",
        "        return(np.random.choice(responses))\n",
        "\n",
        "    else:\n",
        "        return(\"I dont quite Understand, Ask another question\")\n"
      ],
      "execution_count": 103,
      "outputs": []
    },
    {
      "cell_type": "code",
      "metadata": {
        "id": "VDjmcp_HfNoU",
        "colab_type": "code",
        "colab": {
          "base_uri": "https://localhost:8080/",
          "height": 340
        },
        "outputId": "04168956-5e6a-4366-916c-0877c52abe82"
      },
      "source": [
        "from flask_ngrok import run_with_ngrok\n",
        "from flask import Flask, render_template, request\n",
        "from flask import Flask\n",
        "app = Flask(__name__)\n",
        "run_with_ngrok(app)   #starts ngrok when the app is run\n",
        "@app.route(\"/\")\n",
        "def home():\n",
        "    return render_template(\"index.html\") \n",
        "@app.route(\"/get\")\n",
        "def get_bot_response():    \n",
        "    userText = request.args.get('msg')  \n",
        "    print(userText)\n",
        "    response = str(talk(userText))\n",
        "    print(response)  \n",
        "    return response\n",
        "app.run()"
      ],
      "execution_count": 106,
      "outputs": [
        {
          "output_type": "stream",
          "text": [
            " * Serving Flask app \"__main__\" (lazy loading)\n",
            " * Environment: production\n",
            "\u001b[31m   WARNING: This is a development server. Do not use it in a production deployment.\u001b[0m\n",
            "\u001b[2m   Use a production WSGI server instead.\u001b[0m\n",
            " * Debug mode: off\n"
          ],
          "name": "stdout"
        },
        {
          "output_type": "stream",
          "text": [
            " * Running on http://127.0.0.1:5000/ (Press CTRL+C to quit)\n"
          ],
          "name": "stderr"
        },
        {
          "output_type": "stream",
          "text": [
            " * Running on http://102ac74b03e4.ngrok.io\n",
            " * Traffic stats available on http://127.0.0.1:4040\n"
          ],
          "name": "stdout"
        },
        {
          "output_type": "stream",
          "text": [
            "127.0.0.1 - - [31/Jul/2020 16:46:35] \"\u001b[37mGET / HTTP/1.1\u001b[0m\" 200 -\n",
            "127.0.0.1 - - [31/Jul/2020 16:46:35] \"\u001b[37mGET /static/style.css HTTP/1.1\u001b[0m\" 200 -\n",
            "127.0.0.1 - - [31/Jul/2020 16:46:36] \"\u001b[33mGET /favicon.ico HTTP/1.1\u001b[0m\" 404 -\n",
            "127.0.0.1 - - [31/Jul/2020 16:46:55] \"\u001b[37mGET /get?msg=sing%20me%20a%20poem HTTP/1.1\u001b[0m\" 200 -\n"
          ],
          "name": "stderr"
        },
        {
          "output_type": "stream",
          "text": [
            "sing me a poem\n",
            "Offering support for \n",
            "1) Password Reset\n",
            "2) Trouble-Shooting issues\n",
            "3) Virus Issues\n",
            "4) Printer issues\n",
            "5) Other IT tasks\n"
          ],
          "name": "stdout"
        }
      ]
    },
    {
      "cell_type": "markdown",
      "metadata": {
        "id": "pphz9SVhq_sX",
        "colab_type": "text"
      },
      "source": [
        "Advancements:\n",
        "\n",
        "*   Use Embeddings instead of BOW\n",
        "\n",
        "*  Try BERT *model*\n",
        "\n"
      ]
    },
    {
      "cell_type": "code",
      "metadata": {
        "id": "fzBVA6EfrB4Z",
        "colab_type": "code",
        "colab": {}
      },
      "source": [
        ""
      ],
      "execution_count": null,
      "outputs": []
    }
  ]
}